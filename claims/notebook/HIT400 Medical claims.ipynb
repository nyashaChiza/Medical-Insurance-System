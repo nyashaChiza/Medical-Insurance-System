{
 "cells": [
  {
   "cell_type": "code",
   "execution_count": 1,
   "id": "smoking-spencer",
   "metadata": {
    "tags": []
   },
   "outputs": [],
   "source": [
    "import numpy as np\n",
    "import pandas as pd\n",
    "import os\n",
    "from matplotlib import pyplot as plt, rcParams\n",
    "#import seaborn as sns\n",
    "from sklearn.preprocessing import OneHotEncoder\n",
    "import joblib\n",
    "import seaborn as sns\n",
    "from django.conf import settings\n",
    "rcParams['figure.figsize'] = 11,10\n"
   ]
  },
  {
   "cell_type": "markdown",
   "id": "national-backing",
   "metadata": {},
   "source": [
    "# Creating DataFrame"
   ]
  },
  {
   "cell_type": "markdown",
   "id": "threatened-legislature",
   "metadata": {},
   "source": [
    "# Exploritory Data Analysis\n"
   ]
  },
  {
   "cell_type": "code",
   "execution_count": 2,
   "id": "involved-projector",
   "metadata": {
    "tags": []
   },
   "outputs": [],
   "source": [
    "link = '../datasets/medical_aid_claims.csv'\n",
    "df = pd.read_csv(link)"
   ]
  },
  {
   "cell_type": "code",
   "execution_count": 3,
   "id": "smart-dating",
   "metadata": {
    "tags": []
   },
   "outputs": [
    {
     "data": {
      "text/plain": [
       "Road Traffic Accident    1780\n",
       "Accident At Home         1744\n",
       "Other                    1743\n",
       "Accident At Work         1733\n",
       "Name: cause, dtype: int64"
      ]
     },
     "execution_count": 3,
     "metadata": {},
     "output_type": "execute_result"
    }
   ],
   "source": [
    "df['cause'].value_counts()\n"
   ]
  },
  {
   "cell_type": "code",
   "execution_count": 4,
   "id": "unable-meter",
   "metadata": {
    "tags": []
   },
   "outputs": [
    {
     "name": "stdout",
     "output_type": "stream",
     "text": [
      "<class 'pandas.core.frame.DataFrame'>\n",
      "RangeIndex: 7000 entries, 0 to 6999\n",
      "Data columns (total 15 columns):\n",
      " #   Column                Non-Null Count  Dtype \n",
      "---  ------                --------------  ----- \n",
      " 0   member-name           7000 non-null   object\n",
      " 1   email                 7000 non-null   object\n",
      " 2   gender                7000 non-null   object\n",
      " 3   location              7000 non-null   object\n",
      " 4   employer              7000 non-null   object\n",
      " 5   relationship          7000 non-null   object\n",
      " 6   patient_name          7000 non-null   object\n",
      " 7   patient_suffix        7000 non-null   int64 \n",
      " 8   patient_dob           7000 non-null   object\n",
      " 9   cause                 7000 non-null   object\n",
      " 10  Fee Charged           7000 non-null   int64 \n",
      " 11  membership_period     7000 non-null   int64 \n",
      " 12  number_of_claims      7000 non-null   int64 \n",
      " 13  number_of_dependants  7000 non-null   int64 \n",
      " 14  label                 7000 non-null   int64 \n",
      "dtypes: int64(6), object(9)\n",
      "memory usage: 820.4+ KB\n"
     ]
    }
   ],
   "source": [
    "df.info()"
   ]
  },
  {
   "cell_type": "code",
   "execution_count": 29,
   "id": "54c3f451-71de-449e-abc5-43c8a43bd4ce",
   "metadata": {
    "tags": []
   },
   "outputs": [
    {
     "data": {
      "text/html": [
       "<div>\n",
       "<style scoped>\n",
       "    .dataframe tbody tr th:only-of-type {\n",
       "        vertical-align: middle;\n",
       "    }\n",
       "\n",
       "    .dataframe tbody tr th {\n",
       "        vertical-align: top;\n",
       "    }\n",
       "\n",
       "    .dataframe thead th {\n",
       "        text-align: right;\n",
       "    }\n",
       "</style>\n",
       "<table border=\"1\" class=\"dataframe\">\n",
       "  <thead>\n",
       "    <tr style=\"text-align: right;\">\n",
       "      <th></th>\n",
       "      <th>member-name</th>\n",
       "      <th>email</th>\n",
       "      <th>gender</th>\n",
       "      <th>location</th>\n",
       "      <th>employer</th>\n",
       "      <th>relationship</th>\n",
       "      <th>patient_name</th>\n",
       "      <th>patient_suffix</th>\n",
       "      <th>patient_dob</th>\n",
       "      <th>cause</th>\n",
       "      <th>Fee Charged</th>\n",
       "      <th>membership_period</th>\n",
       "      <th>number_of_claims</th>\n",
       "      <th>number_of_dependants</th>\n",
       "      <th>label</th>\n",
       "    </tr>\n",
       "  </thead>\n",
       "  <tbody>\n",
       "    <tr>\n",
       "      <th>0</th>\n",
       "      <td>Chipi</td>\n",
       "      <td>ajimmison0@sun.com</td>\n",
       "      <td>female</td>\n",
       "      <td>Kwekwe</td>\n",
       "      <td>Vipe</td>\n",
       "      <td>Grandfather</td>\n",
       "      <td>Mabhena</td>\n",
       "      <td>789</td>\n",
       "      <td>9/11/1997</td>\n",
       "      <td>Other</td>\n",
       "      <td>3798</td>\n",
       "      <td>1541</td>\n",
       "      <td>2</td>\n",
       "      <td>4</td>\n",
       "      <td>0</td>\n",
       "    </tr>\n",
       "    <tr>\n",
       "      <th>1</th>\n",
       "      <td>Femba</td>\n",
       "      <td>rsoonhouse1@google.it</td>\n",
       "      <td>female</td>\n",
       "      <td>Marondera</td>\n",
       "      <td>Mudo</td>\n",
       "      <td>Husband</td>\n",
       "      <td>Sithole</td>\n",
       "      <td>860</td>\n",
       "      <td>1/14/1992</td>\n",
       "      <td>Other</td>\n",
       "      <td>48905</td>\n",
       "      <td>8269</td>\n",
       "      <td>4</td>\n",
       "      <td>3</td>\n",
       "      <td>0</td>\n",
       "    </tr>\n",
       "    <tr>\n",
       "      <th>2</th>\n",
       "      <td>Geta</td>\n",
       "      <td>bchecchetelli2@house.gov</td>\n",
       "      <td>female</td>\n",
       "      <td>Rusape</td>\n",
       "      <td>Skaboo</td>\n",
       "      <td>Mother</td>\n",
       "      <td>Chipi</td>\n",
       "      <td>374</td>\n",
       "      <td>7/3/1999</td>\n",
       "      <td>Road Traffic Accident</td>\n",
       "      <td>39963</td>\n",
       "      <td>6223</td>\n",
       "      <td>2</td>\n",
       "      <td>2</td>\n",
       "      <td>0</td>\n",
       "    </tr>\n",
       "    <tr>\n",
       "      <th>3</th>\n",
       "      <td>Tichaona</td>\n",
       "      <td>mgarman3@psu.edu</td>\n",
       "      <td>female</td>\n",
       "      <td>Rusape</td>\n",
       "      <td>Babbleset</td>\n",
       "      <td>Father</td>\n",
       "      <td>Jembwa</td>\n",
       "      <td>729</td>\n",
       "      <td>7/31/1978</td>\n",
       "      <td>Road Traffic Accident</td>\n",
       "      <td>34948</td>\n",
       "      <td>8832</td>\n",
       "      <td>6</td>\n",
       "      <td>3</td>\n",
       "      <td>0</td>\n",
       "    </tr>\n",
       "    <tr>\n",
       "      <th>4</th>\n",
       "      <td>Chisa</td>\n",
       "      <td>ccough4@biglobe.ne.jp</td>\n",
       "      <td>female</td>\n",
       "      <td>Bulawayo</td>\n",
       "      <td>Flipopia</td>\n",
       "      <td>Father</td>\n",
       "      <td>Foto</td>\n",
       "      <td>716</td>\n",
       "      <td>12/28/1992</td>\n",
       "      <td>Accident At Work</td>\n",
       "      <td>46984</td>\n",
       "      <td>8804</td>\n",
       "      <td>1</td>\n",
       "      <td>2</td>\n",
       "      <td>1</td>\n",
       "    </tr>\n",
       "  </tbody>\n",
       "</table>\n",
       "</div>"
      ],
      "text/plain": [
       "  member-name                     email  gender   location   employer  \\\n",
       "0       Chipi        ajimmison0@sun.com  female     Kwekwe       Vipe   \n",
       "1       Femba     rsoonhouse1@google.it  female  Marondera       Mudo   \n",
       "2        Geta  bchecchetelli2@house.gov  female     Rusape     Skaboo   \n",
       "3    Tichaona          mgarman3@psu.edu  female     Rusape  Babbleset   \n",
       "4       Chisa     ccough4@biglobe.ne.jp  female   Bulawayo   Flipopia   \n",
       "\n",
       "  relationship patient_name  patient_suffix patient_dob  \\\n",
       "0  Grandfather      Mabhena             789   9/11/1997   \n",
       "1      Husband      Sithole             860   1/14/1992   \n",
       "2       Mother        Chipi             374    7/3/1999   \n",
       "3       Father       Jembwa             729   7/31/1978   \n",
       "4       Father         Foto             716  12/28/1992   \n",
       "\n",
       "                   cause  Fee Charged  membership_period  number_of_claims  \\\n",
       "0                  Other         3798               1541                 2   \n",
       "1                  Other        48905               8269                 4   \n",
       "2  Road Traffic Accident        39963               6223                 2   \n",
       "3  Road Traffic Accident        34948               8832                 6   \n",
       "4       Accident At Work        46984               8804                 1   \n",
       "\n",
       "   number_of_dependants  label  \n",
       "0                     4      0  \n",
       "1                     3      0  \n",
       "2                     2      0  \n",
       "3                     3      0  \n",
       "4                     2      1  "
      ]
     },
     "execution_count": 29,
     "metadata": {},
     "output_type": "execute_result"
    }
   ],
   "source": [
    "df.head()"
   ]
  },
  {
   "cell_type": "code",
   "execution_count": 5,
   "id": "radio-supervisor",
   "metadata": {
    "tags": []
   },
   "outputs": [
    {
     "data": {
      "text/plain": [
       "member-name             0\n",
       "email                   0\n",
       "gender                  0\n",
       "location                0\n",
       "employer                0\n",
       "relationship            0\n",
       "patient_name            0\n",
       "patient_suffix          0\n",
       "patient_dob             0\n",
       "cause                   0\n",
       "Fee Charged             0\n",
       "membership_period       0\n",
       "number_of_claims        0\n",
       "number_of_dependants    0\n",
       "label                   0\n",
       "dtype: int64"
      ]
     },
     "execution_count": 5,
     "metadata": {},
     "output_type": "execute_result"
    }
   ],
   "source": [
    "df.isnull().sum()"
   ]
  },
  {
   "cell_type": "code",
   "execution_count": 6,
   "id": "radio-purchase",
   "metadata": {
    "tags": []
   },
   "outputs": [
    {
     "data": {
      "text/plain": [
       "0    5621\n",
       "1    1379\n",
       "Name: label, dtype: int64"
      ]
     },
     "execution_count": 6,
     "metadata": {},
     "output_type": "execute_result"
    }
   ],
   "source": [
    "df['label'].value_counts()"
   ]
  },
  {
   "cell_type": "markdown",
   "id": "great-request",
   "metadata": {},
   "source": [
    "# Data Visualization to establish Patterns within the data"
   ]
  },
  {
   "cell_type": "code",
   "execution_count": 7,
   "id": "corporate-designation",
   "metadata": {
    "tags": []
   },
   "outputs": [
    {
     "data": {
      "text/plain": [
       "<Axes: xlabel='location'>"
      ]
     },
     "execution_count": 7,
     "metadata": {},
     "output_type": "execute_result"
    },
    {
     "data": {
      "image/png": "[encoded data removed]",
      "text/plain": [
       "<Figure size 1100x1000 with 1 Axes>"
      ]
     },
     "metadata": {},
     "output_type": "display_data"
    }
   ],
   "source": [
    "df.plot(x='location', y=\"Fee Charged\", kind='bar')"
   ]
  },
  {
   "cell_type": "code",
   "execution_count": 22,
   "id": "operating-clearance",
   "metadata": {},
   "outputs": [
    {
     "data": {
      "image/png": "[encoded data removed]",
      "text/plain": [
       "<Figure size 432x288 with 1 Axes>"
      ]
     },
     "metadata": {
      "needs_background": "light"
     },
     "output_type": "display_data"
    }
   ],
   "source": [
    "plt.hist(df[\"cause\"])\n",
    "plt.show()\n",
    "# sns.lmplot('cause', 'Fee Charged', df, hue='label', fit_reg=False)\n",
    "# fig = plt.gcf()\n",
    "# fig.set_size_inches(15,10)\n",
    "# plt.show()"
   ]
  },
  {
   "cell_type": "code",
   "execution_count": 8,
   "id": "million-brown",
   "metadata": {
    "tags": []
   },
   "outputs": [
    {
     "data": {
      "text/plain": [
       "0    5621\n",
       "1    1379\n",
       "Name: label, dtype: int64"
      ]
     },
     "execution_count": 8,
     "metadata": {},
     "output_type": "execute_result"
    }
   ],
   "source": [
    "df['label'].value_counts()"
   ]
  },
  {
   "cell_type": "code",
   "execution_count": 9,
   "id": "statutory-shape",
   "metadata": {
    "tags": []
   },
   "outputs": [
    {
     "name": "stderr",
     "output_type": "stream",
     "text": [
      "/var/folders/_c/7lqh59s12gxb4nhgp6mzjty00000gn/T/ipykernel_85456/1759958773.py:1: FutureWarning: The default value of numeric_only in DataFrame.corr is deprecated. In a future version, it will default to False. Select only valid columns or specify the value of numeric_only to silence this warning.\n",
      "  matrix = df.corr()\n"
     ]
    },
    {
     "data": {
      "text/plain": [
       "label                   1.000000\n",
       "Fee Charged             0.011846\n",
       "patient_suffix         -0.001051\n",
       "number_of_claims       -0.005216\n",
       "membership_period      -0.010831\n",
       "number_of_dependants   -0.015572\n",
       "Name: label, dtype: float64"
      ]
     },
     "execution_count": 9,
     "metadata": {},
     "output_type": "execute_result"
    }
   ],
   "source": [
    "matrix = df.corr()\n",
    "matrix['label'].sort_values(ascending=False)"
   ]
  },
  {
   "cell_type": "code",
   "execution_count": 10,
   "id": "annual-milan",
   "metadata": {
    "tags": []
   },
   "outputs": [
    {
     "data": {
      "text/plain": [
       "<Axes: >"
      ]
     },
     "execution_count": 10,
     "metadata": {},
     "output_type": "execute_result"
    },
    {
     "data": {
      "image/png": "[encoded data removed]",
      "text/plain": [
       "<Figure size 1100x1000 with 2 Axes>"
      ]
     },
     "metadata": {},
     "output_type": "display_data"
    }
   ],
   "source": [
    "sns.heatmap(matrix, vmax=0.8, square=True)"
   ]
  },
  {
   "cell_type": "markdown",
   "id": "average-honduras",
   "metadata": {},
   "source": [
    "\n",
    "# Creating a Data Transformation Pipeline for numerical and catagorical features\n"
   ]
  },
  {
   "cell_type": "code",
   "execution_count": 35,
   "id": "recorded-surprise",
   "metadata": {
    "tags": []
   },
   "outputs": [],
   "source": [
    "#defing a data transformation pipeline\n",
    "\n",
    "from sklearn.pipeline import Pipeline\n",
    "from sklearn.compose import ColumnTransformer\n",
    "from sklearn.impute import SimpleImputer as Imputer\n",
    "from sklearn.preprocessing import StandardScaler\n",
    "num_pipe = Pipeline([\n",
    "('imputer', Imputer(strategy=\"median\")),\n",
    "('std_scaler', StandardScaler()),\n",
    "])\n",
    "\n",
    "pipe = ColumnTransformer([\n",
    "(\"num\", num_pipe, ['patient_suffix','Fee Charged','membership_period', 'number_of_claims','number_of_dependants']),\n",
    "(\"cat\", OneHotEncoder(), ['member-name','email','location','gender','relationship','employer', 'gender','patient_name','cause'])\n",
    "])\n",
    "\n"
   ]
  },
  {
   "cell_type": "markdown",
   "id": "lyric-finish",
   "metadata": {},
   "source": [
    "\n",
    "\n",
    "# Separating data feature from target feature(classification label) and feature    transformation\n"
   ]
  },
  {
   "cell_type": "code",
   "execution_count": 36,
   "id": "intimate-domestic",
   "metadata": {
    "tags": []
   },
   "outputs": [
    {
     "name": "stdout",
     "output_type": "stream",
     "text": [
      "Index(['member-name', 'email', 'gender', 'location', 'employer',\n",
      "       'relationship', 'patient_name', 'patient_suffix', 'patient_dob',\n",
      "       'cause', 'Fee Charged', 'membership_period', 'number_of_claims',\n",
      "       'number_of_dependants'],\n",
      "      dtype='object')\n"
     ]
    },
    {
     "data": {
      "text/plain": [
       "(7000, 7469)"
      ]
     },
     "execution_count": 36,
     "metadata": {},
     "output_type": "execute_result"
    }
   ],
   "source": [
    "target = \"label\"\n",
    "X = df.drop(target, axis=1)  #training set\n",
    "y = df[target]   #labels\n",
    "print(X.columns)\n",
    "#transforming the data\n",
    "pipe= pipe.fit(X)\n",
    "joblib.dump(pipe,'pipeline.pkl')\n",
    "X = pipe.transform(X)\n",
    "X.shape"
   ]
  },
  {
   "cell_type": "markdown",
   "id": "portuguese-floating",
   "metadata": {},
   "source": [
    "# Initialization of ML Algorithms"
   ]
  },
  {
   "cell_type": "code",
   "execution_count": 37,
   "id": "lovely-curve",
   "metadata": {
    "tags": []
   },
   "outputs": [],
   "source": [
    "from sklearn.metrics import classification_report, accuracy_score, confusion_matrix\n",
    "from sklearn.svm import SVC\n",
    "from sklearn.neighbors import KNeighborsClassifier\n",
    "from sklearn.tree import DecisionTreeClassifier\n",
    "from sklearn.model_selection import train_test_split"
   ]
  },
  {
   "cell_type": "code",
   "execution_count": 38,
   "id": "norwegian-expense",
   "metadata": {
    "tags": []
   },
   "outputs": [],
   "source": [
    "svm_clf = SVC()\n",
    "kn_clf = KNeighborsClassifier(5)\n",
    "dt_clf = DecisionTreeClassifier( criterion='entropy',splitter=\"best\", max_leaf_nodes=15)"
   ]
  },
  {
   "cell_type": "markdown",
   "id": "involved-sunglasses",
   "metadata": {},
   "source": [
    "# Training and Testing Each Algorithm (SVM classifier, Decision Tree Classifier, KNN Classifier)"
   ]
  },
  {
   "cell_type": "code",
   "execution_count": 39,
   "id": "killing-likelihood",
   "metadata": {
    "tags": []
   },
   "outputs": [
    {
     "name": "stdout",
     "output_type": "stream",
     "text": [
      "SVM Classifier:400\n",
      "Accuracy Score: 0.8095238095238095\n",
      "              precision    recall  f1-score   support\n",
      "\n",
      "           0       0.81      1.00      0.89      1700\n",
      "           1       0.00      0.00      0.00       400\n",
      "\n",
      "    accuracy                           0.81      2100\n",
      "   macro avg       0.40      0.50      0.45      2100\n",
      "weighted avg       0.66      0.81      0.72      2100\n",
      "\n",
      "[[1700    0]\n",
      " [ 400    0]]\n"
     ]
    },
    {
     "name": "stderr",
     "output_type": "stream",
     "text": [
      "/Users/user/.virtualenvs/meds-app/lib/python3.10/site-packages/sklearn/metrics/_classification.py:1344: UndefinedMetricWarning: Precision and F-score are ill-defined and being set to 0.0 in labels with no predicted samples. Use `zero_division` parameter to control this behavior.\n",
      "  _warn_prf(average, modifier, msg_start, len(result))\n",
      "/Users/user/.virtualenvs/meds-app/lib/python3.10/site-packages/sklearn/metrics/_classification.py:1344: UndefinedMetricWarning: Precision and F-score are ill-defined and being set to 0.0 in labels with no predicted samples. Use `zero_division` parameter to control this behavior.\n",
      "  _warn_prf(average, modifier, msg_start, len(result))\n",
      "/Users/user/.virtualenvs/meds-app/lib/python3.10/site-packages/sklearn/metrics/_classification.py:1344: UndefinedMetricWarning: Precision and F-score are ill-defined and being set to 0.0 in labels with no predicted samples. Use `zero_division` parameter to control this behavior.\n",
      "  _warn_prf(average, modifier, msg_start, len(result))\n"
     ]
    },
    {
     "name": "stdout",
     "output_type": "stream",
     "text": [
      "KNN Classifier:466\n",
      "Accuracy Score: 0.7780952380952381\n",
      "              precision    recall  f1-score   support\n",
      "\n",
      "           0       0.81      0.95      0.87      1700\n",
      "           1       0.22      0.07      0.10       400\n",
      "\n",
      "    accuracy                           0.78      2100\n",
      "   macro avg       0.52      0.51      0.49      2100\n",
      "weighted avg       0.70      0.78      0.73      2100\n",
      "\n",
      "[[1608   92]\n",
      " [ 374   26]]\n",
      "DT Classifier:413\n",
      "Accuracy Score: 0.8033333333333333\n",
      "              precision    recall  f1-score   support\n",
      "\n",
      "           0       0.81      0.99      0.89      1700\n",
      "           1       0.16      0.01      0.01       400\n",
      "\n",
      "    accuracy                           0.80      2100\n",
      "   macro avg       0.48      0.50      0.45      2100\n",
      "weighted avg       0.69      0.80      0.72      2100\n",
      "\n",
      "[[1684   16]\n",
      " [ 397    3]]\n"
     ]
    }
   ],
   "source": [
    "classifier_accuracy = {}\n",
    "\n",
    "X_train, X_test, y_train, y_test = train_test_split(X, y, random_state=1, test_size=0.3)\n",
    "svm_clf = SVM_clf.fit(X_train, y_train)\n",
    "y_pred = SVM_clf.predict(X_test)\n",
    "n_errors = (y_pred !=y_test).sum()\n",
    "print('{}:{}'.format('SVM Classifier',n_errors))\n",
    "print('Accuracy Score:',accuracy_score(y_test, y_pred))\n",
    "print(classification_report(y_test, y_pred))\n",
    "print(confusion_matrix(y_test, y_pred))\n",
    "classifier_accuracy.update({'SVM_clf':accuracy_score(y_test, y_pred)})\n",
    "\n",
    "X_train, X_test, y_train, y_test = train_test_split(X, y, random_state=1, test_size=0.3)\n",
    "kn_clf = Kn_clf.fit(X_train, y_train)\n",
    "y_pred = Kn_clf.predict(X_test)\n",
    "n_errors = (y_pred !=y_test).sum()\n",
    "print('{}:{}'.format('KNN Classifier',n_errors))\n",
    "print('Accuracy Score:',accuracy_score(y_test, y_pred))\n",
    "print(classification_report(y_test, y_pred))\n",
    "print(confusion_matrix(y_test, y_pred))\n",
    "classifier_accuracy.update({'Knn_clf':accuracy_score(y_test, y_pred)})\n",
    "\n",
    "X_train, X_test, y_train, y_test = train_test_split(X, y, random_state=1, test_size=0.3)\n",
    "dt_clf = DT_clf.fit(X_train, y_train)\n",
    "y_pred = DT_clf.predict(X_test)\n",
    "n_errors = (y_pred !=y_test).sum()\n",
    "print('{}:{}'.format('DT Classifier',n_errors))\n",
    "print('Accuracy Score:',accuracy_score(y_test, y_pred))\n",
    "print(classification_report(y_test, y_pred))\n",
    "print(confusion_matrix(y_test, y_pred))\n",
    "classifier_accuracy.update({'DT_clf':accuracy_score(y_test, y_pred)})"
   ]
  },
  {
   "cell_type": "markdown",
   "id": "dynamic-insight",
   "metadata": {},
   "source": [
    "# Plotting Algorithm Performance"
   ]
  },
  {
   "cell_type": "code",
   "execution_count": 40,
   "id": "alpha-figure",
   "metadata": {
    "tags": []
   },
   "outputs": [
    {
     "data": {
      "text/html": [
       "<div>\n",
       "<style scoped>\n",
       "    .dataframe tbody tr th:only-of-type {\n",
       "        vertical-align: middle;\n",
       "    }\n",
       "\n",
       "    .dataframe tbody tr th {\n",
       "        vertical-align: top;\n",
       "    }\n",
       "\n",
       "    .dataframe thead th {\n",
       "        text-align: right;\n",
       "    }\n",
       "</style>\n",
       "<table border=\"1\" class=\"dataframe\">\n",
       "  <thead>\n",
       "    <tr style=\"text-align: right;\">\n",
       "      <th></th>\n",
       "      <th>Classifier</th>\n",
       "      <th>Accuracy</th>\n",
       "    </tr>\n",
       "  </thead>\n",
       "  <tbody>\n",
       "    <tr>\n",
       "      <th>0</th>\n",
       "      <td>SVM_clf</td>\n",
       "      <td>0.809524</td>\n",
       "    </tr>\n",
       "    <tr>\n",
       "      <th>1</th>\n",
       "      <td>Knn_clf</td>\n",
       "      <td>0.778095</td>\n",
       "    </tr>\n",
       "    <tr>\n",
       "      <th>2</th>\n",
       "      <td>DT_clf</td>\n",
       "      <td>0.803333</td>\n",
       "    </tr>\n",
       "  </tbody>\n",
       "</table>\n",
       "</div>"
      ],
      "text/plain": [
       "  Classifier  Accuracy\n",
       "0    SVM_clf  0.809524\n",
       "1    Knn_clf  0.778095\n",
       "2     DT_clf  0.803333"
      ]
     },
     "execution_count": 40,
     "metadata": {},
     "output_type": "execute_result"
    }
   ],
   "source": [
    "ca = [[a,b] for a,b in classifier_accuracy.items()]\n",
    "ca = pd.DataFrame(ca, columns=['Classifier','Accuracy'])\n",
    "ca"
   ]
  },
  {
   "cell_type": "code",
   "execution_count": 41,
   "id": "abstract-printer",
   "metadata": {
    "tags": []
   },
   "outputs": [
    {
     "data": {
      "image/png": "[encoded data removed]",
      "text/plain": [
       "<Figure size 1100x1000 with 1 Axes>"
      ]
     },
     "metadata": {},
     "output_type": "display_data"
    }
   ],
   "source": [
    "import seaborn as sns\n",
    "sns.set_color_codes('muted')\n",
    "sns.barplot(x='Accuracy', y='Classifier', data=ca, color='b')\n",
    "plt.xlabel('Accuracy %')\n",
    "plt.ylabel('Classifier ')\n",
    "plt.title('Classifier Accuracy')\n",
    "plt.show()"
   ]
  },
  {
   "cell_type": "markdown",
   "id": "reported-belief",
   "metadata": {},
   "source": [
    "# HyperParameter Tuning for the SVM Classifer Using Grid Search"
   ]
  },
  {
   "cell_type": "code",
   "execution_count": 42,
   "id": "reduced-mitchell",
   "metadata": {
    "tags": []
   },
   "outputs": [
    {
     "name": "stdout",
     "output_type": "stream",
     "text": [
      "Fitting 5 folds for each of 25 candidates, totalling 125 fits\n",
      "[CV 1/5] END ........C=0.1, gamma=1, kernel=rbf;, score=0.800 total time=   1.2s\n",
      "[CV 2/5] END ........C=0.1, gamma=1, kernel=rbf;, score=0.800 total time=   1.1s\n",
      "[CV 3/5] END ........C=0.1, gamma=1, kernel=rbf;, score=0.800 total time=   1.2s\n",
      "[CV 4/5] END ........C=0.1, gamma=1, kernel=rbf;, score=0.800 total time=   1.4s\n",
      "[CV 5/5] END ........C=0.1, gamma=1, kernel=rbf;, score=0.801 total time=   1.1s\n",
      "[CV 1/5] END ......C=0.1, gamma=0.1, kernel=rbf;, score=0.800 total time=   1.1s\n",
      "[CV 2/5] END ......C=0.1, gamma=0.1, kernel=rbf;, score=0.800 total time=   1.2s\n",
      "[CV 3/5] END ......C=0.1, gamma=0.1, kernel=rbf;, score=0.800 total time=   1.2s\n",
      "[CV 4/5] END ......C=0.1, gamma=0.1, kernel=rbf;, score=0.800 total time=   1.2s\n",
      "[CV 5/5] END ......C=0.1, gamma=0.1, kernel=rbf;, score=0.801 total time=   1.2s\n",
      "[CV 1/5] END .....C=0.1, gamma=0.01, kernel=rbf;, score=0.800 total time=   1.2s\n",
      "[CV 2/5] END .....C=0.1, gamma=0.01, kernel=rbf;, score=0.800 total time=   1.1s\n",
      "[CV 3/5] END .....C=0.1, gamma=0.01, kernel=rbf;, score=0.800 total time=   1.0s\n",
      "[CV 4/5] END .....C=0.1, gamma=0.01, kernel=rbf;, score=0.800 total time=   1.1s\n",
      "[CV 5/5] END .....C=0.1, gamma=0.01, kernel=rbf;, score=0.801 total time=   0.9s\n",
      "[CV 1/5] END ....C=0.1, gamma=0.001, kernel=rbf;, score=0.800 total time=   0.6s\n",
      "[CV 2/5] END ....C=0.1, gamma=0.001, kernel=rbf;, score=0.800 total time=   0.5s\n",
      "[CV 3/5] END ....C=0.1, gamma=0.001, kernel=rbf;, score=0.800 total time=   0.5s\n",
      "[CV 4/5] END ....C=0.1, gamma=0.001, kernel=rbf;, score=0.800 total time=   0.5s\n",
      "[CV 5/5] END ....C=0.1, gamma=0.001, kernel=rbf;, score=0.801 total time=   0.5s\n",
      "[CV 1/5] END ...C=0.1, gamma=0.0001, kernel=rbf;, score=0.800 total time=   0.5s\n",
      "[CV 2/5] END ...C=0.1, gamma=0.0001, kernel=rbf;, score=0.800 total time=   0.5s\n",
      "[CV 3/5] END ...C=0.1, gamma=0.0001, kernel=rbf;, score=0.800 total time=   0.5s\n",
      "[CV 4/5] END ...C=0.1, gamma=0.0001, kernel=rbf;, score=0.800 total time=   0.5s\n",
      "[CV 5/5] END ...C=0.1, gamma=0.0001, kernel=rbf;, score=0.801 total time=   0.5s\n",
      "[CV 1/5] END ..........C=1, gamma=1, kernel=rbf;, score=0.800 total time=   1.1s\n",
      "[CV 2/5] END ..........C=1, gamma=1, kernel=rbf;, score=0.800 total time=   1.2s\n",
      "[CV 3/5] END ..........C=1, gamma=1, kernel=rbf;, score=0.800 total time=   1.1s\n",
      "[CV 4/5] END ..........C=1, gamma=1, kernel=rbf;, score=0.800 total time=   1.1s\n",
      "[CV 5/5] END ..........C=1, gamma=1, kernel=rbf;, score=0.801 total time=   1.1s\n",
      "[CV 1/5] END ........C=1, gamma=0.1, kernel=rbf;, score=0.800 total time=   1.2s\n",
      "[CV 2/5] END ........C=1, gamma=0.1, kernel=rbf;, score=0.800 total time=   1.2s\n",
      "[CV 3/5] END ........C=1, gamma=0.1, kernel=rbf;, score=0.800 total time=   1.3s\n",
      "[CV 4/5] END ........C=1, gamma=0.1, kernel=rbf;, score=0.800 total time=   1.2s\n",
      "[CV 5/5] END ........C=1, gamma=0.1, kernel=rbf;, score=0.801 total time=   1.2s\n",
      "[CV 1/5] END .......C=1, gamma=0.01, kernel=rbf;, score=0.800 total time=   1.2s\n",
      "[CV 2/5] END .......C=1, gamma=0.01, kernel=rbf;, score=0.800 total time=   1.4s\n",
      "[CV 3/5] END .......C=1, gamma=0.01, kernel=rbf;, score=0.800 total time=   1.3s\n",
      "[CV 4/5] END .......C=1, gamma=0.01, kernel=rbf;, score=0.800 total time=   1.2s\n",
      "[CV 5/5] END .......C=1, gamma=0.01, kernel=rbf;, score=0.801 total time=   1.2s\n",
      "[CV 1/5] END ......C=1, gamma=0.001, kernel=rbf;, score=0.800 total time=   1.1s\n",
      "[CV 2/5] END ......C=1, gamma=0.001, kernel=rbf;, score=0.800 total time=   1.0s\n",
      "[CV 3/5] END ......C=1, gamma=0.001, kernel=rbf;, score=0.800 total time=   1.0s\n",
      "[CV 4/5] END ......C=1, gamma=0.001, kernel=rbf;, score=0.800 total time=   1.0s\n",
      "[CV 5/5] END ......C=1, gamma=0.001, kernel=rbf;, score=0.801 total time=   1.0s\n",
      "[CV 1/5] END .....C=1, gamma=0.0001, kernel=rbf;, score=0.800 total time=   0.5s\n",
      "[CV 2/5] END .....C=1, gamma=0.0001, kernel=rbf;, score=0.800 total time=   0.5s\n",
      "[CV 3/5] END .....C=1, gamma=0.0001, kernel=rbf;, score=0.800 total time=   0.5s\n",
      "[CV 4/5] END .....C=1, gamma=0.0001, kernel=rbf;, score=0.800 total time=   0.5s\n",
      "[CV 5/5] END .....C=1, gamma=0.0001, kernel=rbf;, score=0.801 total time=   0.5s\n",
      "[CV 1/5] END .........C=10, gamma=1, kernel=rbf;, score=0.800 total time=   1.6s\n",
      "[CV 2/5] END .........C=10, gamma=1, kernel=rbf;, score=0.800 total time=   1.6s\n",
      "[CV 3/5] END .........C=10, gamma=1, kernel=rbf;, score=0.800 total time=   1.5s\n",
      "[CV 4/5] END .........C=10, gamma=1, kernel=rbf;, score=0.800 total time=   1.9s\n",
      "[CV 5/5] END .........C=10, gamma=1, kernel=rbf;, score=0.801 total time=   1.5s\n",
      "[CV 1/5] END .......C=10, gamma=0.1, kernel=rbf;, score=0.796 total time=   1.4s\n",
      "[CV 2/5] END .......C=10, gamma=0.1, kernel=rbf;, score=0.788 total time=   1.5s\n",
      "[CV 3/5] END .......C=10, gamma=0.1, kernel=rbf;, score=0.785 total time=   1.4s\n",
      "[CV 4/5] END .......C=10, gamma=0.1, kernel=rbf;, score=0.786 total time=   1.4s\n",
      "[CV 5/5] END .......C=10, gamma=0.1, kernel=rbf;, score=0.787 total time=   1.5s\n",
      "[CV 1/5] END ......C=10, gamma=0.01, kernel=rbf;, score=0.800 total time=   1.4s\n",
      "[CV 2/5] END ......C=10, gamma=0.01, kernel=rbf;, score=0.800 total time=   1.3s\n",
      "[CV 3/5] END ......C=10, gamma=0.01, kernel=rbf;, score=0.800 total time=   1.3s\n",
      "[CV 4/5] END ......C=10, gamma=0.01, kernel=rbf;, score=0.800 total time=   1.3s\n",
      "[CV 5/5] END ......C=10, gamma=0.01, kernel=rbf;, score=0.801 total time=   1.3s\n",
      "[CV 1/5] END .....C=10, gamma=0.001, kernel=rbf;, score=0.800 total time=   1.3s\n",
      "[CV 2/5] END .....C=10, gamma=0.001, kernel=rbf;, score=0.800 total time=   1.3s\n",
      "[CV 3/5] END .....C=10, gamma=0.001, kernel=rbf;, score=0.800 total time=   1.4s\n",
      "[CV 4/5] END .....C=10, gamma=0.001, kernel=rbf;, score=0.800 total time=   1.3s\n",
      "[CV 5/5] END .....C=10, gamma=0.001, kernel=rbf;, score=0.801 total time=   1.3s\n",
      "[CV 1/5] END ....C=10, gamma=0.0001, kernel=rbf;, score=0.800 total time=   1.0s\n",
      "[CV 2/5] END ....C=10, gamma=0.0001, kernel=rbf;, score=0.800 total time=   1.1s\n",
      "[CV 3/5] END ....C=10, gamma=0.0001, kernel=rbf;, score=0.800 total time=   1.2s\n",
      "[CV 4/5] END ....C=10, gamma=0.0001, kernel=rbf;, score=0.800 total time=   1.0s\n",
      "[CV 5/5] END ....C=10, gamma=0.0001, kernel=rbf;, score=0.801 total time=   1.0s\n",
      "[CV 1/5] END ........C=100, gamma=1, kernel=rbf;, score=0.800 total time=   1.4s\n",
      "[CV 2/5] END ........C=100, gamma=1, kernel=rbf;, score=0.800 total time=   1.4s\n",
      "[CV 3/5] END ........C=100, gamma=1, kernel=rbf;, score=0.800 total time=   1.4s\n",
      "[CV 4/5] END ........C=100, gamma=1, kernel=rbf;, score=0.800 total time=   1.4s\n",
      "[CV 5/5] END ........C=100, gamma=1, kernel=rbf;, score=0.801 total time=   1.5s\n",
      "[CV 1/5] END ......C=100, gamma=0.1, kernel=rbf;, score=0.796 total time=   1.5s\n",
      "[CV 2/5] END ......C=100, gamma=0.1, kernel=rbf;, score=0.788 total time=   1.4s\n",
      "[CV 3/5] END ......C=100, gamma=0.1, kernel=rbf;, score=0.785 total time=   1.5s\n",
      "[CV 4/5] END ......C=100, gamma=0.1, kernel=rbf;, score=0.786 total time=   1.4s\n",
      "[CV 5/5] END ......C=100, gamma=0.1, kernel=rbf;, score=0.787 total time=   1.4s\n",
      "[CV 1/5] END .....C=100, gamma=0.01, kernel=rbf;, score=0.772 total time=   8.3s\n",
      "[CV 2/5] END .....C=100, gamma=0.01, kernel=rbf;, score=0.770 total time=   4.3s\n",
      "[CV 3/5] END .....C=100, gamma=0.01, kernel=rbf;, score=0.766 total time=   2.6s\n",
      "[CV 4/5] END .....C=100, gamma=0.01, kernel=rbf;, score=0.769 total time=   2.2s\n",
      "[CV 5/5] END .....C=100, gamma=0.01, kernel=rbf;, score=0.766 total time=   2.3s\n",
      "[CV 1/5] END ....C=100, gamma=0.001, kernel=rbf;, score=0.800 total time=   2.1s\n",
      "[CV 2/5] END ....C=100, gamma=0.001, kernel=rbf;, score=0.800 total time=   1.9s\n",
      "[CV 3/5] END ....C=100, gamma=0.001, kernel=rbf;, score=0.800 total time=   1.7s\n",
      "[CV 4/5] END ....C=100, gamma=0.001, kernel=rbf;, score=0.800 total time=   1.6s\n",
      "[CV 5/5] END ....C=100, gamma=0.001, kernel=rbf;, score=0.801 total time=   1.5s\n",
      "[CV 1/5] END ...C=100, gamma=0.0001, kernel=rbf;, score=0.800 total time=   1.3s\n",
      "[CV 2/5] END ...C=100, gamma=0.0001, kernel=rbf;, score=0.800 total time=   1.3s\n",
      "[CV 3/5] END ...C=100, gamma=0.0001, kernel=rbf;, score=0.800 total time=   1.4s\n",
      "[CV 4/5] END ...C=100, gamma=0.0001, kernel=rbf;, score=0.800 total time=   1.4s\n",
      "[CV 5/5] END ...C=100, gamma=0.0001, kernel=rbf;, score=0.801 total time=   1.3s\n",
      "[CV 1/5] END .......C=1000, gamma=1, kernel=rbf;, score=0.800 total time=   1.4s\n",
      "[CV 2/5] END .......C=1000, gamma=1, kernel=rbf;, score=0.800 total time=   1.5s\n",
      "[CV 3/5] END .......C=1000, gamma=1, kernel=rbf;, score=0.800 total time=   1.5s\n",
      "[CV 4/5] END .......C=1000, gamma=1, kernel=rbf;, score=0.800 total time=   1.4s\n",
      "[CV 5/5] END .......C=1000, gamma=1, kernel=rbf;, score=0.801 total time=   1.6s\n",
      "[CV 1/5] END .....C=1000, gamma=0.1, kernel=rbf;, score=0.796 total time=   1.4s\n",
      "[CV 2/5] END .....C=1000, gamma=0.1, kernel=rbf;, score=0.788 total time=   1.3s\n",
      "[CV 3/5] END .....C=1000, gamma=0.1, kernel=rbf;, score=0.785 total time=   1.5s\n",
      "[CV 4/5] END .....C=1000, gamma=0.1, kernel=rbf;, score=0.786 total time=   1.4s\n",
      "[CV 5/5] END .....C=1000, gamma=0.1, kernel=rbf;, score=0.787 total time=   1.3s\n",
      "[CV 1/5] END ....C=1000, gamma=0.01, kernel=rbf;, score=0.772 total time=   1.9s\n",
      "[CV 2/5] END ....C=1000, gamma=0.01, kernel=rbf;, score=0.770 total time=   2.0s\n",
      "[CV 3/5] END ....C=1000, gamma=0.01, kernel=rbf;, score=0.766 total time=   1.8s\n",
      "[CV 4/5] END ....C=1000, gamma=0.01, kernel=rbf;, score=0.769 total time=   1.9s\n",
      "[CV 5/5] END ....C=1000, gamma=0.01, kernel=rbf;, score=0.766 total time=   1.9s\n",
      "[CV 1/5] END ...C=1000, gamma=0.001, kernel=rbf;, score=0.786 total time=   2.1s\n",
      "[CV 2/5] END ...C=1000, gamma=0.001, kernel=rbf;, score=0.787 total time=   2.2s\n",
      "[CV 3/5] END ...C=1000, gamma=0.001, kernel=rbf;, score=0.792 total time=   2.3s\n",
      "[CV 4/5] END ...C=1000, gamma=0.001, kernel=rbf;, score=0.782 total time=   2.2s\n",
      "[CV 5/5] END ...C=1000, gamma=0.001, kernel=rbf;, score=0.784 total time=   2.1s\n",
      "[CV 1/5] END ..C=1000, gamma=0.0001, kernel=rbf;, score=0.800 total time=   1.6s\n",
      "[CV 2/5] END ..C=1000, gamma=0.0001, kernel=rbf;, score=0.800 total time=   1.6s\n",
      "[CV 3/5] END ..C=1000, gamma=0.0001, kernel=rbf;, score=0.800 total time=   1.7s\n",
      "[CV 4/5] END ..C=1000, gamma=0.0001, kernel=rbf;, score=0.800 total time=   1.6s\n",
      "[CV 5/5] END ..C=1000, gamma=0.0001, kernel=rbf;, score=0.801 total time=   1.9s\n"
     ]
    },
    {
     "data": {
      "text/html": [
       "<style>#sk-container-id-3 {color: black;background-color: white;}#sk-container-id-3 pre{padding: 0;}#sk-container-id-3 div.sk-toggleable {background-color: white;}#sk-container-id-3 label.sk-toggleable__label {cursor: pointer;display: block;width: 100%;margin-bottom: 0;padding: 0.3em;box-sizing: border-box;text-align: center;}#sk-container-id-3 label.sk-toggleable__label-arrow:before {content: \"▸\";float: left;margin-right: 0.25em;color: #696969;}#sk-container-id-3 label.sk-toggleable__label-arrow:hover:before {color: black;}#sk-container-id-3 div.sk-estimator:hover label.sk-toggleable__label-arrow:before {color: black;}#sk-container-id-3 div.sk-toggleable__content {max-height: 0;max-width: 0;overflow: hidden;text-align: left;background-color: #f0f8ff;}#sk-container-id-3 div.sk-toggleable__content pre {margin: 0.2em;color: black;border-radius: 0.25em;background-color: #f0f8ff;}#sk-container-id-3 input.sk-toggleable__control:checked~div.sk-toggleable__content {max-height: 200px;max-width: 100%;overflow: auto;}#sk-container-id-3 input.sk-toggleable__control:checked~label.sk-toggleable__label-arrow:before {content: \"▾\";}#sk-container-id-3 div.sk-estimator input.sk-toggleable__control:checked~label.sk-toggleable__label {background-color: #d4ebff;}#sk-container-id-3 div.sk-label input.sk-toggleable__control:checked~label.sk-toggleable__label {background-color: #d4ebff;}#sk-container-id-3 input.sk-hidden--visually {border: 0;clip: rect(1px 1px 1px 1px);clip: rect(1px, 1px, 1px, 1px);height: 1px;margin: -1px;overflow: hidden;padding: 0;position: absolute;width: 1px;}#sk-container-id-3 div.sk-estimator {font-family: monospace;background-color: #f0f8ff;border: 1px dotted black;border-radius: 0.25em;box-sizing: border-box;margin-bottom: 0.5em;}#sk-container-id-3 div.sk-estimator:hover {background-color: #d4ebff;}#sk-container-id-3 div.sk-parallel-item::after {content: \"\";width: 100%;border-bottom: 1px solid gray;flex-grow: 1;}#sk-container-id-3 div.sk-label:hover label.sk-toggleable__label {background-color: #d4ebff;}#sk-container-id-3 div.sk-serial::before {content: \"\";position: absolute;border-left: 1px solid gray;box-sizing: border-box;top: 0;bottom: 0;left: 50%;z-index: 0;}#sk-container-id-3 div.sk-serial {display: flex;flex-direction: column;align-items: center;background-color: white;padding-right: 0.2em;padding-left: 0.2em;position: relative;}#sk-container-id-3 div.sk-item {position: relative;z-index: 1;}#sk-container-id-3 div.sk-parallel {display: flex;align-items: stretch;justify-content: center;background-color: white;position: relative;}#sk-container-id-3 div.sk-item::before, #sk-container-id-3 div.sk-parallel-item::before {content: \"\";position: absolute;border-left: 1px solid gray;box-sizing: border-box;top: 0;bottom: 0;left: 50%;z-index: -1;}#sk-container-id-3 div.sk-parallel-item {display: flex;flex-direction: column;z-index: 1;position: relative;background-color: white;}#sk-container-id-3 div.sk-parallel-item:first-child::after {align-self: flex-end;width: 50%;}#sk-container-id-3 div.sk-parallel-item:last-child::after {align-self: flex-start;width: 50%;}#sk-container-id-3 div.sk-parallel-item:only-child::after {width: 0;}#sk-container-id-3 div.sk-dashed-wrapped {border: 1px dashed gray;margin: 0 0.4em 0.5em 0.4em;box-sizing: border-box;padding-bottom: 0.4em;background-color: white;}#sk-container-id-3 div.sk-label label {font-family: monospace;font-weight: bold;display: inline-block;line-height: 1.2em;}#sk-container-id-3 div.sk-label-container {text-align: center;}#sk-container-id-3 div.sk-container {/* jupyter's `normalize.less` sets `[hidden] { display: none; }` but bootstrap.min.css set `[hidden] { display: none !important; }` so we also need the `!important` here to be able to override the default hidden behavior on the sphinx rendered scikit-learn.org. See: https://github.com/scikit-learn/scikit-learn/issues/21755 */display: inline-block !important;position: relative;}#sk-container-id-3 div.sk-text-repr-fallback {display: none;}</style><div id=\"sk-container-id-3\" class=\"sk-top-container\"><div class=\"sk-text-repr-fallback\"><pre>GridSearchCV(estimator=SVC(),\n",
       "             param_grid={&#x27;C&#x27;: [0.1, 1, 10, 100, 1000],\n",
       "                         &#x27;gamma&#x27;: [1, 0.1, 0.01, 0.001, 0.0001],\n",
       "                         &#x27;kernel&#x27;: [&#x27;rbf&#x27;]},\n",
       "             verbose=3)</pre><b>In a Jupyter environment, please rerun this cell to show the HTML representation or trust the notebook. <br />On GitHub, the HTML representation is unable to render, please try loading this page with nbviewer.org.</b></div><div class=\"sk-container\" hidden><div class=\"sk-item sk-dashed-wrapped\"><div class=\"sk-label-container\"><div class=\"sk-label sk-toggleable\"><input class=\"sk-toggleable__control sk-hidden--visually\" id=\"sk-estimator-id-5\" type=\"checkbox\" ><label for=\"sk-estimator-id-5\" class=\"sk-toggleable__label sk-toggleable__label-arrow\">GridSearchCV</label><div class=\"sk-toggleable__content\"><pre>GridSearchCV(estimator=SVC(),\n",
       "             param_grid={&#x27;C&#x27;: [0.1, 1, 10, 100, 1000],\n",
       "                         &#x27;gamma&#x27;: [1, 0.1, 0.01, 0.001, 0.0001],\n",
       "                         &#x27;kernel&#x27;: [&#x27;rbf&#x27;]},\n",
       "             verbose=3)</pre></div></div></div><div class=\"sk-parallel\"><div class=\"sk-parallel-item\"><div class=\"sk-item\"><div class=\"sk-label-container\"><div class=\"sk-label sk-toggleable\"><input class=\"sk-toggleable__control sk-hidden--visually\" id=\"sk-estimator-id-6\" type=\"checkbox\" ><label for=\"sk-estimator-id-6\" class=\"sk-toggleable__label sk-toggleable__label-arrow\">estimator: SVC</label><div class=\"sk-toggleable__content\"><pre>SVC()</pre></div></div></div><div class=\"sk-serial\"><div class=\"sk-item\"><div class=\"sk-estimator sk-toggleable\"><input class=\"sk-toggleable__control sk-hidden--visually\" id=\"sk-estimator-id-7\" type=\"checkbox\" ><label for=\"sk-estimator-id-7\" class=\"sk-toggleable__label sk-toggleable__label-arrow\">SVC</label><div class=\"sk-toggleable__content\"><pre>SVC()</pre></div></div></div></div></div></div></div></div></div></div>"
      ],
      "text/plain": [
       "GridSearchCV(estimator=SVC(),\n",
       "             param_grid={'C': [0.1, 1, 10, 100, 1000],\n",
       "                         'gamma': [1, 0.1, 0.01, 0.001, 0.0001],\n",
       "                         'kernel': ['rbf']},\n",
       "             verbose=3)"
      ]
     },
     "execution_count": 42,
     "metadata": {},
     "output_type": "execute_result"
    }
   ],
   "source": [
    "from sklearn.model_selection import GridSearchCV\n",
    "\n",
    "param_grid = {'C': [0.1, 1, 10, 100, 1000], \n",
    "              'gamma': [1, 0.1, 0.01, 0.001, 0.0001],\n",
    "              'kernel': ['rbf']} \n",
    "  \n",
    "grid = GridSearchCV(SVC(), param_grid, refit = True, verbose = 3)\n",
    "  \n",
    "# fitting the model for grid search\n",
    "grid.fit(X_train, y_train)"
   ]
  },
  {
   "cell_type": "code",
   "execution_count": 43,
   "id": "demographic-purple",
   "metadata": {
    "tags": []
   },
   "outputs": [
    {
     "data": {
      "text/plain": [
       "{'C': 0.1, 'gamma': 1, 'kernel': 'rbf'}"
      ]
     },
     "execution_count": 43,
     "metadata": {},
     "output_type": "execute_result"
    }
   ],
   "source": [
    "grid.best_params_"
   ]
  },
  {
   "cell_type": "code",
   "execution_count": 44,
   "id": "characteristic-reynolds",
   "metadata": {
    "tags": []
   },
   "outputs": [
    {
     "data": {
      "text/html": [
       "<style>#sk-container-id-4 {color: black;background-color: white;}#sk-container-id-4 pre{padding: 0;}#sk-container-id-4 div.sk-toggleable {background-color: white;}#sk-container-id-4 label.sk-toggleable__label {cursor: pointer;display: block;width: 100%;margin-bottom: 0;padding: 0.3em;box-sizing: border-box;text-align: center;}#sk-container-id-4 label.sk-toggleable__label-arrow:before {content: \"▸\";float: left;margin-right: 0.25em;color: #696969;}#sk-container-id-4 label.sk-toggleable__label-arrow:hover:before {color: black;}#sk-container-id-4 div.sk-estimator:hover label.sk-toggleable__label-arrow:before {color: black;}#sk-container-id-4 div.sk-toggleable__content {max-height: 0;max-width: 0;overflow: hidden;text-align: left;background-color: #f0f8ff;}#sk-container-id-4 div.sk-toggleable__content pre {margin: 0.2em;color: black;border-radius: 0.25em;background-color: #f0f8ff;}#sk-container-id-4 input.sk-toggleable__control:checked~div.sk-toggleable__content {max-height: 200px;max-width: 100%;overflow: auto;}#sk-container-id-4 input.sk-toggleable__control:checked~label.sk-toggleable__label-arrow:before {content: \"▾\";}#sk-container-id-4 div.sk-estimator input.sk-toggleable__control:checked~label.sk-toggleable__label {background-color: #d4ebff;}#sk-container-id-4 div.sk-label input.sk-toggleable__control:checked~label.sk-toggleable__label {background-color: #d4ebff;}#sk-container-id-4 input.sk-hidden--visually {border: 0;clip: rect(1px 1px 1px 1px);clip: rect(1px, 1px, 1px, 1px);height: 1px;margin: -1px;overflow: hidden;padding: 0;position: absolute;width: 1px;}#sk-container-id-4 div.sk-estimator {font-family: monospace;background-color: #f0f8ff;border: 1px dotted black;border-radius: 0.25em;box-sizing: border-box;margin-bottom: 0.5em;}#sk-container-id-4 div.sk-estimator:hover {background-color: #d4ebff;}#sk-container-id-4 div.sk-parallel-item::after {content: \"\";width: 100%;border-bottom: 1px solid gray;flex-grow: 1;}#sk-container-id-4 div.sk-label:hover label.sk-toggleable__label {background-color: #d4ebff;}#sk-container-id-4 div.sk-serial::before {content: \"\";position: absolute;border-left: 1px solid gray;box-sizing: border-box;top: 0;bottom: 0;left: 50%;z-index: 0;}#sk-container-id-4 div.sk-serial {display: flex;flex-direction: column;align-items: center;background-color: white;padding-right: 0.2em;padding-left: 0.2em;position: relative;}#sk-container-id-4 div.sk-item {position: relative;z-index: 1;}#sk-container-id-4 div.sk-parallel {display: flex;align-items: stretch;justify-content: center;background-color: white;position: relative;}#sk-container-id-4 div.sk-item::before, #sk-container-id-4 div.sk-parallel-item::before {content: \"\";position: absolute;border-left: 1px solid gray;box-sizing: border-box;top: 0;bottom: 0;left: 50%;z-index: -1;}#sk-container-id-4 div.sk-parallel-item {display: flex;flex-direction: column;z-index: 1;position: relative;background-color: white;}#sk-container-id-4 div.sk-parallel-item:first-child::after {align-self: flex-end;width: 50%;}#sk-container-id-4 div.sk-parallel-item:last-child::after {align-self: flex-start;width: 50%;}#sk-container-id-4 div.sk-parallel-item:only-child::after {width: 0;}#sk-container-id-4 div.sk-dashed-wrapped {border: 1px dashed gray;margin: 0 0.4em 0.5em 0.4em;box-sizing: border-box;padding-bottom: 0.4em;background-color: white;}#sk-container-id-4 div.sk-label label {font-family: monospace;font-weight: bold;display: inline-block;line-height: 1.2em;}#sk-container-id-4 div.sk-label-container {text-align: center;}#sk-container-id-4 div.sk-container {/* jupyter's `normalize.less` sets `[hidden] { display: none; }` but bootstrap.min.css set `[hidden] { display: none !important; }` so we also need the `!important` here to be able to override the default hidden behavior on the sphinx rendered scikit-learn.org. See: https://github.com/scikit-learn/scikit-learn/issues/21755 */display: inline-block !important;position: relative;}#sk-container-id-4 div.sk-text-repr-fallback {display: none;}</style><div id=\"sk-container-id-4\" class=\"sk-top-container\"><div class=\"sk-text-repr-fallback\"><pre>SVC(C=0.1, gamma=1)</pre><b>In a Jupyter environment, please rerun this cell to show the HTML representation or trust the notebook. <br />On GitHub, the HTML representation is unable to render, please try loading this page with nbviewer.org.</b></div><div class=\"sk-container\" hidden><div class=\"sk-item\"><div class=\"sk-estimator sk-toggleable\"><input class=\"sk-toggleable__control sk-hidden--visually\" id=\"sk-estimator-id-8\" type=\"checkbox\" checked><label for=\"sk-estimator-id-8\" class=\"sk-toggleable__label sk-toggleable__label-arrow\">SVC</label><div class=\"sk-toggleable__content\"><pre>SVC(C=0.1, gamma=1)</pre></div></div></div></div></div>"
      ],
      "text/plain": [
       "SVC(C=0.1, gamma=1)"
      ]
     },
     "execution_count": 44,
     "metadata": {},
     "output_type": "execute_result"
    }
   ],
   "source": [
    "grid.best_estimator_"
   ]
  },
  {
   "cell_type": "code",
   "execution_count": 45,
   "id": "female-candidate",
   "metadata": {
    "tags": []
   },
   "outputs": [],
   "source": [
    "grid_predictions = grid.predict(X_test)"
   ]
  },
  {
   "cell_type": "code",
   "execution_count": 46,
   "id": "hydraulic-container",
   "metadata": {
    "tags": []
   },
   "outputs": [
    {
     "name": "stdout",
     "output_type": "stream",
     "text": [
      "Grid SVM Classifier:413\n",
      "Accuracy Score: 0.8095238095238095\n",
      "              precision    recall  f1-score   support\n",
      "\n",
      "           0       0.81      1.00      0.89      1700\n",
      "           1       0.00      0.00      0.00       400\n",
      "\n",
      "    accuracy                           0.81      2100\n",
      "   macro avg       0.40      0.50      0.45      2100\n",
      "weighted avg       0.66      0.81      0.72      2100\n",
      "\n",
      "[[1700    0]\n",
      " [ 400    0]]\n"
     ]
    },
    {
     "name": "stderr",
     "output_type": "stream",
     "text": [
      "/Users/user/.virtualenvs/meds-app/lib/python3.10/site-packages/sklearn/metrics/_classification.py:1344: UndefinedMetricWarning: Precision and F-score are ill-defined and being set to 0.0 in labels with no predicted samples. Use `zero_division` parameter to control this behavior.\n",
      "  _warn_prf(average, modifier, msg_start, len(result))\n",
      "/Users/user/.virtualenvs/meds-app/lib/python3.10/site-packages/sklearn/metrics/_classification.py:1344: UndefinedMetricWarning: Precision and F-score are ill-defined and being set to 0.0 in labels with no predicted samples. Use `zero_division` parameter to control this behavior.\n",
      "  _warn_prf(average, modifier, msg_start, len(result))\n",
      "/Users/user/.virtualenvs/meds-app/lib/python3.10/site-packages/sklearn/metrics/_classification.py:1344: UndefinedMetricWarning: Precision and F-score are ill-defined and being set to 0.0 in labels with no predicted samples. Use `zero_division` parameter to control this behavior.\n",
      "  _warn_prf(average, modifier, msg_start, len(result))\n"
     ]
    }
   ],
   "source": [
    "print('{}:{}'.format('Grid SVM Classifier',n_errors))\n",
    "print('Accuracy Score:',accuracy_score(y_test, grid_predictions))\n",
    "print(classification_report(y_test, grid_predictions))\n",
    "print(confusion_matrix(y_test, grid_predictions))"
   ]
  },
  {
   "cell_type": "markdown",
   "id": "designed-leeds",
   "metadata": {},
   "source": [
    "# Classifying a Test Medical Aid Claim"
   ]
  },
  {
   "cell_type": "code",
   "execution_count": 47,
   "id": "greek-wedding",
   "metadata": {
    "tags": []
   },
   "outputs": [],
   "source": [
    "data ={'member-name': 'Evans', 'gender': 'male', 'email': 'raskawrq@washington.edu', 'location': 'Gweru', 'employer': 'Mudo', 'relationship': 'Uncle', 'patient_name': 'Samvura', 'patient_suffix': '677', 'patient_dob': '09/10/1986', 'number_of_dependants': '3', 'Fee Charged': '6700', 'cause': 'Accident At Work', 'number_of_claims': '2', 'membership_period': '4'}"
   ]
  },
  {
   "cell_type": "code",
   "execution_count": 48,
   "id": "abroad-terrorist",
   "metadata": {
    "tags": []
   },
   "outputs": [],
   "source": [
    "new_data = {}\n",
    "new_data['member-name'] = data['member-name']\n",
    "new_data['email'] = data['email']\n",
    "new_data['gender']= data['gender']\n",
    "new_data['location'] = data['location']\n",
    "\n"
   ]
  },
  {
   "cell_type": "markdown",
   "id": "14ef76de",
   "metadata": {},
   "source": [
    "# Add new data to DataFrame for processing"
   ]
  },
  {
   "cell_type": "code",
   "execution_count": 49,
   "id": "major-funeral",
   "metadata": {
    "tags": []
   },
   "outputs": [
    {
     "data": {
      "text/html": [
       "<div>\n",
       "<style scoped>\n",
       "    .dataframe tbody tr th:only-of-type {\n",
       "        vertical-align: middle;\n",
       "    }\n",
       "\n",
       "    .dataframe tbody tr th {\n",
       "        vertical-align: top;\n",
       "    }\n",
       "\n",
       "    .dataframe thead th {\n",
       "        text-align: right;\n",
       "    }\n",
       "</style>\n",
       "<table border=\"1\" class=\"dataframe\">\n",
       "  <thead>\n",
       "    <tr style=\"text-align: right;\">\n",
       "      <th></th>\n",
       "      <th>member-name</th>\n",
       "      <th>gender</th>\n",
       "      <th>email</th>\n",
       "      <th>location</th>\n",
       "      <th>employer</th>\n",
       "      <th>relationship</th>\n",
       "      <th>patient_name</th>\n",
       "      <th>patient_suffix</th>\n",
       "      <th>patient_dob</th>\n",
       "      <th>number_of_dependants</th>\n",
       "      <th>Fee Charged</th>\n",
       "      <th>cause</th>\n",
       "      <th>number_of_claims</th>\n",
       "      <th>membership_period</th>\n",
       "    </tr>\n",
       "  </thead>\n",
       "  <tbody>\n",
       "    <tr>\n",
       "      <th>0</th>\n",
       "      <td>Evans</td>\n",
       "      <td>male</td>\n",
       "      <td>raskawrq@washington.edu</td>\n",
       "      <td>Gweru</td>\n",
       "      <td>Mudo</td>\n",
       "      <td>Uncle</td>\n",
       "      <td>Samvura</td>\n",
       "      <td>677</td>\n",
       "      <td>09/10/1986</td>\n",
       "      <td>3</td>\n",
       "      <td>6700</td>\n",
       "      <td>Accident At Work</td>\n",
       "      <td>2</td>\n",
       "      <td>4</td>\n",
       "    </tr>\n",
       "  </tbody>\n",
       "</table>\n",
       "</div>"
      ],
      "text/plain": [
       "  member-name gender                    email location employer relationship  \\\n",
       "0       Evans   male  raskawrq@washington.edu    Gweru     Mudo        Uncle   \n",
       "\n",
       "  patient_name patient_suffix patient_dob number_of_dependants Fee Charged  \\\n",
       "0      Samvura            677  09/10/1986                    3        6700   \n",
       "\n",
       "              cause number_of_claims membership_period  \n",
       "0  Accident At Work                2                 4  "
      ]
     },
     "execution_count": 49,
     "metadata": {},
     "output_type": "execute_result"
    }
   ],
   "source": [
    "d = pd.DataFrame(data, index=[0])\n",
    "d"
   ]
  },
  {
   "cell_type": "markdown",
   "id": "8b3ea494",
   "metadata": {},
   "source": [
    "# Transformation of the data frame into valid ML algorithm inputs"
   ]
  },
  {
   "cell_type": "code",
   "execution_count": 50,
   "id": "northern-sound",
   "metadata": {
    "tags": []
   },
   "outputs": [],
   "source": [
    "\n",
    "X  = pipe.transform(d)"
   ]
  },
  {
   "cell_type": "code",
   "execution_count": 51,
   "id": "valued-delhi",
   "metadata": {
    "tags": []
   },
   "outputs": [
    {
     "data": {
      "text/plain": [
       "(1, 7469)"
      ]
     },
     "execution_count": 51,
     "metadata": {},
     "output_type": "execute_result"
    }
   ],
   "source": [
    "X.shape"
   ]
  },
  {
   "cell_type": "markdown",
   "id": "4caa5ff3",
   "metadata": {},
   "source": [
    "# Classifying the the data input as Fraudulent or Clean"
   ]
  },
  {
   "cell_type": "code",
   "execution_count": 52,
   "id": "nominated-acceptance",
   "metadata": {
    "tags": []
   },
   "outputs": [],
   "source": [
    "grid_predictions = grid.predict(X)"
   ]
  },
  {
   "cell_type": "markdown",
   "id": "7416392c",
   "metadata": {},
   "source": [
    "# the Medical Aid Claim is classified as Clean\n"
   ]
  },
  {
   "cell_type": "code",
   "execution_count": 53,
   "id": "forward-tumor",
   "metadata": {
    "tags": []
   },
   "outputs": [
    {
     "data": {
      "text/plain": [
       "0"
      ]
     },
     "execution_count": 53,
     "metadata": {},
     "output_type": "execute_result"
    }
   ],
   "source": [
    "grid_predictions[0]"
   ]
  },
  {
   "cell_type": "code",
   "execution_count": 54,
   "id": "checked-nelson",
   "metadata": {
    "tags": []
   },
   "outputs": [],
   "source": [
    "# a classification of 0 is a clean claim, and 1 is a fraudulent claim"
   ]
  },
  {
   "cell_type": "code",
   "execution_count": 55,
   "id": "3f1466d6-cd95-4a09-9194-bbce3bbbe9fc",
   "metadata": {
    "tags": []
   },
   "outputs": [
    {
     "data": {
      "text/plain": [
       "['model.pkl']"
      ]
     },
     "execution_count": 55,
     "metadata": {},
     "output_type": "execute_result"
    }
   ],
   "source": [
    "joblib.dump(grid,'model.pkl')"
   ]
  },
  {
   "cell_type": "code",
   "execution_count": null,
   "id": "96cfcad4-e772-41da-a4c6-758c0ac4e375",
   "metadata": {},
   "outputs": [],
   "source": []
  }
 ],
 "metadata": {
  "kernelspec": {
   "display_name": "Python 3 (ipykernel)",
   "language": "python",
   "name": "python3"
  },
  "language_info": {
   "codemirror_mode": {
    "name": "ipython",
    "version": 3
   },
   "file_extension": ".py",
   "mimetype": "text/x-python",
   "name": "python",
   "nbconvert_exporter": "python",
   "pygments_lexer": "ipython3",
   "version": "3.10.4"
  },
  "vscode": {
   "interpreter": {
    "hash": "aee8b7b246df8f9039afb4144a1f6fd8d2ca17a180786b69acc140d282b71a49"
   }
  }
 },
 "nbformat": 4,
 "nbformat_minor": 5
}
